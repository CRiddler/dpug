{
 "cells": [
  {
   "cell_type": "markdown",
   "id": "1b6dd141",
   "metadata": {
    "slideshow": {
     "slide_type": "slide"
    }
   },
   "source": [
    "# Exceptions - Following a traceback\n",
    "This workshop will help you understand how to read and understand error messages in python."
   ]
  },
  {
   "cell_type": "markdown",
   "id": "4177f2a2",
   "metadata": {
    "slideshow": {
     "slide_type": "subslide"
    }
   },
   "source": [
    "<pre>\n",
    "<span class=\"ansi-red-fg\">---------------------------------------------------------------------------</span>\n",
    "<span class=\"ansi-red-fg\">KeyError</span>                                  Traceback (most recent call last)\n",
    "<span class=\"ansi-green-fg\">&lt;ipython-input-45-1b6d4eed09ff&gt;</span> in <span class=\"ansi-cyan-fg\">&lt;module&gt;</span>\n",
    "<span class=\"ansi-green-intense-fg ansi-bold\">      9</span>     <span class=\"ansi-green-fg\">return</span> message\n",
    "<span class=\"ansi-green-intense-fg ansi-bold\">     10</span> \n",
    "<span class=\"ansi-green-fg\">---&gt; 11</span><span class=\"ansi-red-fg\"> </span>hello_world<span class=\"ansi-blue-fg\">(</span><span class=\"ansi-blue-fg\">\"m\"</span><span class=\"ansi-blue-fg\">)</span>\n",
    "\n",
    "<span class=\"ansi-green-fg\">&lt;ipython-input-45-1b6d4eed09ff&gt;</span> in <span class=\"ansi-cyan-fg\">hello_world</span><span class=\"ansi-blue-fg\">(shortcut)</span>\n",
    "<span class=\"ansi-green-intense-fg ansi-bold\">      6</span>     }\n",
    "<span class=\"ansi-green-intense-fg ansi-bold\">      7</span> \n",
    "<span class=\"ansi-green-fg\">----&gt; 8</span><span class=\"ansi-red-fg\">     </span>message <span class=\"ansi-blue-fg\">=</span> msg_shortcuts<span class=\"ansi-blue-fg\">[</span>shortcut<span class=\"ansi-blue-fg\">]</span>\n",
    "<span class=\"ansi-green-intense-fg ansi-bold\">      9</span>     <span class=\"ansi-green-fg\">return</span> message\n",
    "<span class=\"ansi-green-intense-fg ansi-bold\">     10</span> \n",
    "\n",
    "<span class=\"ansi-red-fg\">KeyError</span>: 'm'\n",
    "</pre>"
   ]
  },
  {
   "cell_type": "markdown",
   "id": "a3fd519d",
   "metadata": {
    "slideshow": {
     "slide_type": "slide"
    }
   },
   "source": [
    "## Terminology:\n",
    "* **Error/Exception**: A simple message/value to inform a user that something unexpected has occurred and that the code should not continue running.\n",
    "\n",
    "* **Traceback**: A traceback is a message that points to where in the code an error has occurred."
   ]
  },
  {
   "cell_type": "markdown",
   "id": "53fc19a9",
   "metadata": {
    "slideshow": {
     "slide_type": "subslide"
    }
   },
   "source": [
    "## What happens when an error occurs?\n",
    "* Hello"
   ]
  },
  {
   "cell_type": "markdown",
   "id": "e1ac9ec8",
   "metadata": {
    "slideshow": {
     "slide_type": "slide"
    }
   },
   "source": [
    "## Common exceptions and common causes\n",
    "* SyntaxError - python can't read some of the code you wrote\n",
    "* TypeError - \n",
    "* ValueError\n",
    "* ModeuleNotFoundError\n",
    "* IndexError\n",
    "* NameError"
   ]
  },
  {
   "cell_type": "markdown",
   "id": "9a37e162",
   "metadata": {
    "slideshow": {
     "slide_type": "slide"
    }
   },
   "source": [
    "### SyntaxError"
   ]
  },
  {
   "cell_type": "code",
   "execution_count": null,
   "id": "b7929c25",
   "metadata": {
    "slideshow": {
     "slide_type": "subslide"
    },
    "tags": [
     "raises-exception"
    ]
   },
   "outputs": [],
   "source": [
    "a = \"1"
   ]
  },
  {
   "cell_type": "code",
   "execution_count": null,
   "id": "c008a899",
   "metadata": {
    "slideshow": {
     "slide_type": "subslide"
    },
    "tags": [
     "raises-exception"
    ]
   },
   "outputs": [],
   "source": [
    "if True:\n",
    "    pass"
   ]
  },
  {
   "cell_type": "code",
   "execution_count": null,
   "id": "42365e07",
   "metadata": {
    "slideshow": {
     "slide_type": "subslide"
    },
    "tags": [
     "raises-exception"
    ]
   },
   "outputs": [],
   "source": [
    "a = (1, 2)\n",
    "\n",
    "if True:\n",
    "     print(\"hello\")"
   ]
  },
  {
   "cell_type": "markdown",
   "id": "ef76dac0",
   "metadata": {
    "slideshow": {
     "slide_type": "slide"
    }
   },
   "source": [
    "### TypeError\n",
    "**This exception may be raised by user code to indicate that an attempted operation on an object is not supported, and is not meant to be.** [documentation](https://docs.python.org/3/library/exceptions.html##TypeError)\n",
    "\n",
    "It is often up to the associated message and user to interpret the specific meaning of a TypeError"
   ]
  },
  {
   "cell_type": "code",
   "execution_count": null,
   "id": "3e8b3385",
   "metadata": {
    "slideshow": {
     "slide_type": "subslide"
    }
   },
   "outputs": [],
   "source": [
    "integer_list = [1, 2, 3]\n",
    "string_list = [\"a\", \"b\", \"c\", \"d\"]"
   ]
  },
  {
   "cell_type": "code",
   "execution_count": null,
   "id": "6c4a618e",
   "metadata": {
    "slideshow": {
     "slide_type": "fragment"
    }
   },
   "outputs": [],
   "source": [
    "sum(integer_list)"
   ]
  },
  {
   "cell_type": "code",
   "execution_count": null,
   "id": "088f91f9",
   "metadata": {
    "slideshow": {
     "slide_type": "fragment"
    },
    "tags": [
     "raises-exception"
    ]
   },
   "outputs": [],
   "source": [
    "sum(string_list)"
   ]
  },
  {
   "cell_type": "code",
   "execution_count": null,
   "id": "b4d99a02",
   "metadata": {
    "tags": [
     "raises-exception"
    ]
   },
   "outputs": [],
   "source": [
    "len(8)"
   ]
  },
  {
   "cell_type": "code",
   "execution_count": null,
   "id": "8b77c456",
   "metadata": {
    "tags": [
     "raises-exception"
    ]
   },
   "outputs": [],
   "source": [
    "len(\"123\", \"a\")"
   ]
  },
  {
   "cell_type": "markdown",
   "id": "0b2f6f61",
   "metadata": {
    "heading_collapsed": true
   },
   "source": [
    "### ValueError"
   ]
  },
  {
   "cell_type": "markdown",
   "id": "681c566f",
   "metadata": {},
   "source": [
    "### ModuleNotFoundError"
   ]
  },
  {
   "cell_type": "code",
   "execution_count": null,
   "id": "b70d7b7d",
   "metadata": {},
   "outputs": [],
   "source": [
    "## import does_not_exist"
   ]
  },
  {
   "cell_type": "code",
   "execution_count": null,
   "id": "4c0b0bde",
   "metadata": {},
   "outputs": [],
   "source": [
    "import itertools"
   ]
  },
  {
   "cell_type": "code",
   "execution_count": null,
   "id": "e7fed05b",
   "metadata": {},
   "outputs": [],
   "source": [
    "## import itertols"
   ]
  },
  {
   "cell_type": "markdown",
   "id": "15d67b4e",
   "metadata": {
    "heading_collapsed": true
   },
   "source": [
    "### IndexError"
   ]
  },
  {
   "cell_type": "markdown",
   "id": "d4fccc37",
   "metadata": {
    "heading_collapsed": true
   },
   "source": [
    "### KeyError"
   ]
  },
  {
   "cell_type": "markdown",
   "id": "00fd104e",
   "metadata": {
    "slideshow": {
     "slide_type": "slide"
    }
   },
   "source": [
    "### NameError\n",
    "* Typo in variable name\n",
    "* Especially important in notebooks!!!"
   ]
  },
  {
   "cell_type": "code",
   "execution_count": null,
   "id": "d8f437d3",
   "metadata": {
    "slideshow": {
     "slide_type": "subslide"
    },
    "tags": [
     "raises-exception"
    ]
   },
   "outputs": [],
   "source": [
    "memoization = 0\n",
    "print(memoizaton)"
   ]
  },
  {
   "cell_type": "code",
   "execution_count": null,
   "id": "3b401ff0",
   "metadata": {
    "slideshow": {
     "slide_type": "subslide"
    },
    "tags": [
     "raises-exception"
    ]
   },
   "outputs": [],
   "source": [
    "print(g)"
   ]
  },
  {
   "cell_type": "code",
   "execution_count": null,
   "id": "4675478d",
   "metadata": {
    "slideshow": {
     "slide_type": "fragment"
    }
   },
   "outputs": [],
   "source": [
    "g = \"hello world\""
   ]
  },
  {
   "cell_type": "markdown",
   "id": "cb46d69d",
   "metadata": {
    "slideshow": {
     "slide_type": "slide"
    }
   },
   "source": [
    "## Tracebacks with other code\n",
    "So far we have only discussed errors where the only code in the traceback is code we've written. How do we scan through much longer error messages that include a lot of foreign code?\n",
    "\n",
    "* import some standard lib, put in bad input, make error as confusing as possible.\n",
    "* highlight \"code I wrote vs code some one else wrote\"\n",
    "* solve the error\n",
    "* The more nested functions become, the more complex the traceback!"
   ]
  },
  {
   "cell_type": "code",
   "execution_count": null,
   "id": "ff990c7f",
   "metadata": {},
   "outputs": [],
   "source": [
    "## list(\"123\", 5)"
   ]
  },
  {
   "cell_type": "code",
   "execution_count": null,
   "id": "a9fe22b2",
   "metadata": {},
   "outputs": [],
   "source": [
    "## if 1:\n",
    "##     if 3:\n",
    "##         print(((123))\n",
    "\n",
    "## if 2:\n",
    "##     print(123)"
   ]
  },
  {
   "cell_type": "markdown",
   "id": "fcea2963",
   "metadata": {
    "slideshow": {
     "slide_type": "slide"
    }
   },
   "source": [
    "## Seeking help - How to ask a good question"
   ]
  },
  {
   "cell_type": "markdown",
   "id": "4164b460",
   "metadata": {
    "slideshow": {
     "slide_type": "slide"
    }
   },
   "source": [
    "## Challenge!"
   ]
  }
 ],
 "metadata": {
  "dpug": {
   "author": "Cameron Riddell",
   "date": "2021-07-20"
  },
  "jupytext": {
   "notebook_metadata_filter": "dpug,rise"
  },
  "kernelspec": {
   "display_name": "Python 3 (ipykernel)",
   "language": "python",
   "name": "python3"
  },
  "rise": {
   "scroll": true
  }
 },
 "nbformat": 4,
 "nbformat_minor": 5
}
