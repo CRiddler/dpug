{
 "cells": [
  {
   "cell_type": "markdown",
   "id": "c14207c4",
   "metadata": {
    "slideshow": {
     "slide_type": "slide"
    },
    "tags": []
   },
   "source": [
    "# Exceptions - Following a traceback\n",
    "This workshop will help you understand how to read and understand error messages in python.\n",
    "\n",
    "## Learning Goals\n",
    "* Understand what Exceptions are and differentiate from the traceback\n",
    "* Read and interpret a traceback for easier debugging\n",
    "* When/how to use Exceptions in my own code\n",
    "* Seeking help when encountering an error"
   ]
  },
  {
   "cell_type": "markdown",
   "id": "ed9079f2",
   "metadata": {
    "tags": []
   },
   "source": [
    "## Terminology\n",
    "* **Error/Exception**: A value and/or message informing a user that something unexpected has occurred and that the script should not continue running.\n",
    "\n",
    "* **Traceback**: A traceback is a message that points to where in the code an error has occurred."
   ]
  },
  {
   "cell_type": "markdown",
   "id": "9d15e7eb",
   "metadata": {},
   "source": [
    "<div class=\"alert alert-info\">\n",
    "    <font size=\"4\">Exceptions tell you <b>what</b> went wrong, tracebacks tell you <b>where</b> it went wrong</font>\n",
    "</div>"
   ]
  },
  {
   "cell_type": "markdown",
   "id": "e606acd6",
   "metadata": {},
   "source": [
    "![parts of an exception](../_static/images/exceptions_parts.png)"
   ]
  },
  {
   "cell_type": "markdown",
   "id": "3cdfa719",
   "metadata": {
    "slideshow": {
     "slide_type": "slide"
    },
    "tags": []
   },
   "source": [
    "## Common exceptions and common causes\n",
    "\n",
    "| Exception    | Interpretation | Generic Solution | Python Docs Link |\n",
    "|--------------|-----------|------------|-------------|\n",
    "| [SyntaxError](#syntaxerror) | python can not read some of the code you wrote | Review your code and make sure you have no open quotes, brackets, parentheses. If you ever see a SyntaxError traceback where nothing looks wrong, check the line of code above it. | [docs](https://docs.python.org/3/library/exceptions.html#SyntaxError) |\n",
    "[TypeError](#typeerror)       | You've called a function/method and one of your arguments is of the wrong type | Check the types of each argument that you're passing into the function in question. Ensure each argument you're passing is appropriate for the function at hand | [docs](https://docs.python.org/3/library/exceptions.html#TypeError)\n",
    "[ValueError](#valueerror)     | You've provided a value into a function that it cannot use | Check the function you're calling, if it requires specific values (e.g. a positive number, a limited number of choices of strings, etc) make sure that your argument falls within those values | [docs](https://docs.python.org/3/library/exceptions.html#ValueError)\n",
    "[IndexError](#indexerror)     | The object you are trying to index is either not indexable, or does not have an index corresponding to your selection | Double check the index number you are using to index and ensure it is not greater than the length of the container object. | [docs](https://docs.python.org/3/library/exceptions.html#IndexError)\n",
    "[ModeuleNotFoundError](#modulenotfounderror) | You're trying to import a package without having installed it first |  Ensure you do not have a typo in the package name at import statement (variable names are case sensitive too!). If there are no typos, check your package managers (typically `pip` or `conda` to ensure you have the specific package installed. If you are using a virtual environment manager, check that the correct virtual environment is active. | [docs](https://docs.python.org/3/library/exceptions.html#ModuleNotFoundError)\n",
    "[NameError](#nameerror) | You are attempting to reference a variable that does not exist. | Ensure you have spelled your variable name correctly. Additionally, if you are working within a notebook, double check that have run the specific cell that defines your variable. | [docs](https://docs.python.org/3/library/exceptions.html#NameError)\n",
    "[AttributeError](#attributeerror) | You attempted to access an attribute of an object that does not exist | You trying to access an attribute on an object that does not exist | [docs](https://docs.python.org/3/library/exceptions.html#AttributeError)"
   ]
  },
  {
   "cell_type": "markdown",
   "id": "ac7df0b3",
   "metadata": {
    "slideshow": {
     "slide_type": "slide"
    },
    "tags": []
   },
   "source": [
    "### SyntaxError\n",
    "**Python can't parse/read some of the code you wrote**\n",
    "\n",
    "**Solution**: Review your code and make sure you have no open quotes, brackets, parentheses"
   ]
  },
  {
   "cell_type": "code",
   "execution_count": null,
   "id": "6b6fc08c",
   "metadata": {
    "slideshow": {
     "slide_type": "subslide"
    },
    "tags": [
     "raises-exception"
    ]
   },
   "outputs": [],
   "source": [
    "# Missing closing quote\n",
    "a = \"1"
   ]
  },
  {
   "cell_type": "code",
   "execution_count": null,
   "id": "37a26989",
   "metadata": {
    "tags": [
     "raises-exception"
    ]
   },
   "outputs": [],
   "source": [
    "# Missing colon\n",
    "for i in range(5)\n",
    "    pass"
   ]
  },
  {
   "cell_type": "markdown",
   "id": "046d9a39",
   "metadata": {
    "tags": []
   },
   "source": [
    "#### Less helpful SyntaxErrors\n",
    "Sometimes python's SyntaxErrors aren't exactly helpful...\n",
    "\n",
    "**Solution**: If you ever see a SyntaxError traceback where nothing looks wrong, check the line of code above it."
   ]
  },
  {
   "cell_type": "code",
   "execution_count": null,
   "id": "fa045047",
   "metadata": {
    "tags": [
     "raises-exception"
    ]
   },
   "outputs": [],
   "source": [
    "# The traceback indicates an issue on line 3, whereas the issue is actually on line 2\n",
    "x = (1, 2,\n",
    "y = 3"
   ]
  },
  {
   "cell_type": "code",
   "execution_count": null,
   "id": "14c5ce60",
   "metadata": {
    "tags": [
     "raises-exception"
    ]
   },
   "outputs": [],
   "source": [
    "# The traceback indicates an issue on line 5, whereas the issue is actually on line 4\n",
    "my_dict = {\n",
    "    \"hello\": 1,\n",
    "    \"world\": 3\n",
    "    \"foo\": 4,\n",
    "    \"bar\": 5\n",
    "}"
   ]
  },
  {
   "cell_type": "markdown",
   "id": "d6b88803",
   "metadata": {
    "slideshow": {
     "slide_type": "slide"
    },
    "tags": []
   },
   "source": [
    "### TypeError\n",
    "**A function/method was given an argument of the wrong type**\n",
    "\n",
    "**Solution**: Check the types of each argument that you're passing into the function in question. Ensure each argument you're passing is appropriate for the function at hand"
   ]
  },
  {
   "cell_type": "code",
   "execution_count": null,
   "id": "e093edf6",
   "metadata": {
    "slideshow": {
     "slide_type": "subslide"
    },
    "tags": []
   },
   "outputs": [],
   "source": [
    "integer_list = [1, 2, 3]\n",
    "sum(integer_list)"
   ]
  },
  {
   "cell_type": "code",
   "execution_count": null,
   "id": "8264bd50",
   "metadata": {
    "slideshow": {
     "slide_type": "fragment"
    },
    "tags": [
     "raises-exception"
    ]
   },
   "outputs": [],
   "source": [
    "string_list = [\"a\", \"b\", \"c\", \"d\"]\n",
    "sum(string_list)"
   ]
  },
  {
   "cell_type": "markdown",
   "id": "fe7dfb25",
   "metadata": {},
   "source": [
    "### TypeError - Not callable\n",
    "**You are attempting to call a function, however the object you are using is not a function\\***\n",
    "\n",
    "What is function calling?\n",
    "Function calling is when you invoke a function by using parentheses.\n",
    "\n",
    "\n",
    "* Note: more specifically, the object you are trying to call does not define a `__call__` dunder method, which is not limited to just function objects."
   ]
  },
  {
   "cell_type": "code",
   "execution_count": null,
   "id": "d22b4b82",
   "metadata": {},
   "outputs": [],
   "source": [
    "# Defining the function object\n",
    "def addition(x, y):\n",
    "    return x + y\n",
    "\n",
    "addition(1, 2) # I'm now calling the function, works as expected"
   ]
  },
  {
   "cell_type": "code",
   "execution_count": null,
   "id": "7d629eca",
   "metadata": {
    "tags": [
     "raises-exception"
    ]
   },
   "outputs": [],
   "source": [
    "# Whoops, we overwrote the function name with a variable that points to an integer\n",
    "addition = 5\n",
    "\n",
    "# addition no longer references a function and instead points to an integer\n",
    "# An integer is not callable (it doesn't define how to handle opening/closing parentheses)\n",
    "#   so an error is raised\n",
    "addition(1, 2) "
   ]
  },
  {
   "cell_type": "markdown",
   "id": "5df74bde",
   "metadata": {
    "heading_collapsed": true,
    "tags": []
   },
   "source": [
    "### ValueError\n",
    "**You've provided a value into a function that it cannot use**\n",
    "\n",
    "Similar to a TypeError in terms of its logic (e.g. 'this function received something it doesn't know how to work with), but differentiates in that this is used to raise an Error when the type of the passed argument is correct.\n",
    "\n",
    "**Solution**: Check the function you're calling, if it requires specific values (e.g. a positive number, a limited number of choices of strings, etc) make sure that your argument falls within those values"
   ]
  },
  {
   "cell_type": "code",
   "execution_count": null,
   "id": "dd0ec42e",
   "metadata": {},
   "outputs": [],
   "source": [
    "import math\n",
    "math.sqrt(100) # works as expected"
   ]
  },
  {
   "cell_type": "code",
   "execution_count": null,
   "id": "20c2881a",
   "metadata": {
    "tags": [
     "raises-exception"
    ]
   },
   "outputs": [],
   "source": [
    "math.sqrt(-100) # does not return imaginary numbers, instead raises an Exception"
   ]
  },
  {
   "cell_type": "code",
   "execution_count": null,
   "id": "c695651e",
   "metadata": {
    "tags": [
     "raises-exception"
    ]
   },
   "outputs": [],
   "source": [
    "# For comparison, this snippet raises a TypeError\n",
    "#   note that we're passing a string into `math.sqrt`\n",
    "math.sqrt(\"100\")"
   ]
  },
  {
   "cell_type": "markdown",
   "id": "7cb66c80",
   "metadata": {
    "heading_collapsed": true,
    "tags": []
   },
   "source": [
    "### IndexError\n",
    "**The object you are trying to index is either not indexable, or does not have an index corresponding to your selection.**\n",
    "\n",
    "These are common to encounter with container-like objects. (e.g. lists, tuples, sets, arrays)\n",
    "\n",
    "**Solution**: Double check the index number you are using to index and ensure it is not greater than the length of the container object."
   ]
  },
  {
   "cell_type": "code",
   "execution_count": null,
   "id": "a53a886b",
   "metadata": {},
   "outputs": [],
   "source": [
    "# successful indexing\n",
    "x = [\"a\", \"b\", \"c\"]\n",
    "x[1]  # get the second item from the list"
   ]
  },
  {
   "cell_type": "code",
   "execution_count": null,
   "id": "59b451f5",
   "metadata": {
    "tags": [
     "raises-exception"
    ]
   },
   "outputs": [],
   "source": [
    "x[10] # get the 10th item from the list"
   ]
  },
  {
   "cell_type": "code",
   "execution_count": null,
   "id": "a25bbc8f",
   "metadata": {
    "tags": [
     "raises-exception"
    ]
   },
   "outputs": [],
   "source": [
    "# A method can also raise an IndexError if that method attempts to index an item from the object\n",
    "x.pop(10)"
   ]
  },
  {
   "cell_type": "markdown",
   "id": "e115ef20",
   "metadata": {
    "tags": []
   },
   "source": [
    "### ModuleNotFoundError\n",
    "**You're trying to import a package without having installed it first**\n",
    "\n",
    "**Solution**: Ensure you do not have a typo in the package name at import statement (variable names are case sensitive too!). If there are no typos, check your package managers (typically `pip` or `conda` to ensure you have the specific package installed. If you are using a virtual environment manager, check that the correct virtual environment is active."
   ]
  },
  {
   "cell_type": "code",
   "execution_count": null,
   "id": "69d1f8ae",
   "metadata": {},
   "outputs": [],
   "source": [
    "# runs successfully, as expected\n",
    "import collections"
   ]
  },
  {
   "cell_type": "code",
   "execution_count": null,
   "id": "b9caf473",
   "metadata": {
    "tags": [
     "raises-exception"
    ]
   },
   "outputs": [],
   "source": [
    "# error, we have not installed a package named `does_not_exist`\n",
    "import does_not_exist"
   ]
  },
  {
   "cell_type": "code",
   "execution_count": null,
   "id": "80409a83",
   "metadata": {
    "tags": [
     "raises-exception"
    ]
   },
   "outputs": [],
   "source": [
    "# common: watch out for typos!\n",
    "import colections"
   ]
  },
  {
   "cell_type": "markdown",
   "id": "c722f05d",
   "metadata": {
    "slideshow": {
     "slide_type": "slide"
    },
    "tags": []
   },
   "source": [
    "### NameError\n",
    "**You are attempting to reference a variable that does not exist**\n",
    "\n",
    "**Solution**: Ensure you have spelled your variable name correctly. Additionally, if you are working within a notebook, double check that have run the specific cell that defines your variable."
   ]
  },
  {
   "cell_type": "code",
   "execution_count": null,
   "id": "ee277493",
   "metadata": {
    "slideshow": {
     "slide_type": "subslide"
    },
    "tags": [
     "raises-exception"
    ]
   },
   "outputs": [],
   "source": [
    "memoization = 0\n",
    "print(memoization)"
   ]
  },
  {
   "cell_type": "code",
   "execution_count": null,
   "id": "8a7ddb2d",
   "metadata": {
    "tags": [
     "raises-exception"
    ]
   },
   "outputs": [],
   "source": [
    "print(memoizaton)"
   ]
  },
  {
   "cell_type": "markdown",
   "id": "6dad7177",
   "metadata": {},
   "source": [
    "### AttributeError\n",
    "**You trying to access an attribute on an object that does not exist**\n",
    "\n",
    "**Solution**:\n",
    "1. Check you have correctly spelled the attribute\n",
    "2. Check the object you are operating, to ensure it is what you think it is."
   ]
  },
  {
   "cell_type": "code",
   "execution_count": null,
   "id": "2b3ae33b",
   "metadata": {},
   "outputs": [],
   "source": [
    "import datetime as dt\n",
    "todays_date = dt.datetime.today()\n",
    "print(todays_date)"
   ]
  },
  {
   "cell_type": "code",
   "execution_count": null,
   "id": "4e34342f",
   "metadata": {
    "tags": []
   },
   "outputs": [],
   "source": [
    "# Accessing the year attribute from the datetime object\n",
    "todays_date.year"
   ]
  },
  {
   "cell_type": "code",
   "execution_count": null,
   "id": "993824d9",
   "metadata": {
    "tags": [
     "raises-exception"
    ]
   },
   "outputs": [],
   "source": [
    "# Misspelled attribute raises AttributeError\n",
    "todays_date.yer"
   ]
  },
  {
   "cell_type": "code",
   "execution_count": null,
   "id": "25f7b7a9",
   "metadata": {
    "tags": [
     "raises-exception"
    ]
   },
   "outputs": [],
   "source": [
    "# Accidental overitten variable raises AttributeError\n",
    "todays_date = 5\n",
    "todays_date.year  # variable `todays_date` is no longer a datetime object. It is an integer."
   ]
  },
  {
   "cell_type": "markdown",
   "id": "54830277",
   "metadata": {},
   "source": [
    "## Tracebacks From Our Functions\n",
    "So far we have only discussed errors where the only code in the traceback is code we've written. However, code is never this simple. Lets take a look at more realistic scenarios where errors are encountered within functions and generate much longer tracebacks that include a lot of code we haven't seen before.\n",
    "\n",
    "It is common practice for functions to be nested- meaning that functions are called inside of functions. For each level of nesting, we will see a slightly longer traceback."
   ]
  },
  {
   "cell_type": "code",
   "execution_count": null,
   "id": "8bc96458",
   "metadata": {
    "tags": [
     "raises-exception"
    ]
   },
   "outputs": [],
   "source": [
    "def add(x, y):\n",
    "    return x + y\n",
    "\n",
    "\n",
    "\n",
    "add(\"2\", 1)"
   ]
  },
  {
   "cell_type": "code",
   "execution_count": null,
   "id": "7d96d9b8",
   "metadata": {
    "tags": [
     "raises-exception"
    ]
   },
   "outputs": [],
   "source": [
    "def add_one(x):\n",
    "    return add(x, 1)\n",
    "\n",
    "\n",
    "\n",
    "add_one(\"2\")"
   ]
  },
  {
   "cell_type": "markdown",
   "id": "d879442f",
   "metadata": {},
   "source": [
    "<div class=\"alert alert-info\">\n",
    "    Note that the traceback became longer when we called `add` from within `add_one` because python wants to show us all of the code that was executed between the code we wrote, and where the error occurred.\n",
    "</div>\n",
    "\n",
    "Encountering nested functions like this, is extremely common. So it's important that you can follow these longer tracebacks to help you debug your own code.\n",
    "\n",
    "Lets look at example where we import an external library and encounter an error in code we haven't written ourselves."
   ]
  },
  {
   "cell_type": "markdown",
   "id": "05b6dea7",
   "metadata": {},
   "source": [
    "### Breakdown a Nested Traceback\n",
    "**Using the example above, lets follow the execution path that led to the error.**\n",
    "\n",
    "This help us understand what function calls were made that led to the raising of the error\n",
    "\n",
    "![follow a traceback](../_static/images/exceptions_follow_traceback.png)"
   ]
  },
  {
   "cell_type": "markdown",
   "id": "274775c0",
   "metadata": {},
   "source": [
    "## Tracebacks From External Functions\n",
    "\n",
    "It is common practice to use external libraries in python. When doing so you have access to tons of code that other python users have written. Our tracebacks can become a little funny looking because now we end up seeing code that we have neither written, nor read before. It is important to be able to follow the execution path of code even when you did not write all of the code that is in a given traceback."
   ]
  },
  {
   "cell_type": "code",
   "execution_count": null,
   "id": "b15449b3",
   "metadata": {},
   "outputs": [],
   "source": [
    "import collections\n",
    "\n",
    "# A Counter object returns a dictionary of unique values along with how many times they were observed\n",
    "counter = collections.Counter(\"aaaabbbccd\")\n",
    "counter"
   ]
  },
  {
   "cell_type": "code",
   "execution_count": null,
   "id": "a1bdd917",
   "metadata": {},
   "outputs": [],
   "source": [
    "# This Counter object has a few more methods than a normal dictionary\n",
    "#  To get the 2 most commonly encountered values:\n",
    "counter.most_common(2)"
   ]
  },
  {
   "cell_type": "code",
   "execution_count": null,
   "id": "d1344efc",
   "metadata": {
    "tags": [
     "raises-exception"
    ]
   },
   "outputs": [],
   "source": [
    "# What happens if we put a string into the most_common method?\n",
    "counter.most_common(\"a\")"
   ]
  },
  {
   "cell_type": "markdown",
   "id": "801f45f6",
   "metadata": {},
   "source": [
    "### Breakdown an External Traceback\n",
    "\n",
    "![follow external traceback](../_static/images/exceptions_follow_traceback_external.png)"
   ]
  },
  {
   "cell_type": "markdown",
   "id": "4a78ca75",
   "metadata": {},
   "source": [
    "## Using Errors in your own code\n",
    "\n",
    "Sometimes it is necessary to raise errors in your own code. Whether you want to limit the range of possible inputs for a function, or want to avoid catastrophic failure of your code, errors are a useful way of conveying to a user that something has gone wrong."
   ]
  },
  {
   "cell_type": "markdown",
   "id": "4368313d",
   "metadata": {},
   "source": [
    "### Raise your own errors"
   ]
  },
  {
   "cell_type": "code",
   "execution_count": null,
   "id": "d223c08b",
   "metadata": {},
   "outputs": [],
   "source": [
    "# Errors can be made, just like any other object in python\n",
    "my_error = ValueError(\"this is a message\")\n",
    "my_error"
   ]
  },
  {
   "cell_type": "markdown",
   "id": "975dea68",
   "metadata": {},
   "source": [
    "<div class=\"alert alert-info\">\n",
    "    \n",
    "**Note** that with the above code, the error did not do anything. We simply created an error object. In order to have the error object stop python from executing code, we will need to raise it.\n",
    "</div>"
   ]
  },
  {
   "cell_type": "code",
   "execution_count": null,
   "id": "dbcad804",
   "metadata": {
    "tags": [
     "raises-exception"
    ]
   },
   "outputs": [],
   "source": [
    "# Errors can be throw by using the `raise` statement\n",
    "raise my_error"
   ]
  },
  {
   "cell_type": "markdown",
   "id": "588b9e93",
   "metadata": {},
   "source": [
    "<div class=\"alert alert-info\">\n",
    "\n",
    "**Note** both the error type and message we wrote ourselves was included in the output!\n",
    "\n",
    "Now lets explore some occasions that we may want to throw our own errors to prevent users from misusing our functions.\n",
    "</div>"
   ]
  },
  {
   "cell_type": "markdown",
   "id": "6a7d67f2",
   "metadata": {},
   "source": [
    "#### Raise Your Own Errors - Example"
   ]
  },
  {
   "cell_type": "code",
   "execution_count": null,
   "id": "e17ae705",
   "metadata": {
    "tags": []
   },
   "outputs": [],
   "source": [
    "def add_then_multiply(x, y, multiplier=1):\n",
    "    return (x + y) * multiplier\n",
    "\n",
    "# adds 3 + 5, multiplies the result by 2\n",
    "add_then_multiply(4, 5, multiplier=2)"
   ]
  },
  {
   "cell_type": "markdown",
   "id": "ce65b38c",
   "metadata": {},
   "source": [
    "Our `add_then_multiply` function works as expected. First we add 4 + 5 together. Then we multiply their sum by 2.\n",
    "\n",
    "Let's see what happens when we change the `multiplier` argument from an number (integer/float) to a string."
   ]
  },
  {
   "cell_type": "code",
   "execution_count": null,
   "id": "56201228",
   "metadata": {
    "tags": [
     "raises-exception"
    ]
   },
   "outputs": [],
   "source": [
    "add_then_multiply(4, 5, multiplier=\"2\")"
   ]
  },
  {
   "cell_type": "markdown",
   "id": "ebe66879",
   "metadata": {},
   "source": [
    "Well that was unexpected, the function still works despite our multiplier value being a string, however, the output is very odd though- a repeating string of \"2\"s?\n",
    "\n",
    "Let's see if we can use our own Exception to ensure only numbers can be passed into our function. We're going to use a `TypeError` when an inappropriate type of value is passed into the multiplier argument (e.g. any value that is not an integer or float)."
   ]
  },
  {
   "cell_type": "code",
   "execution_count": null,
   "id": "3580e985",
   "metadata": {
    "tags": [
     "raises-exception"
    ]
   },
   "outputs": [],
   "source": [
    "def add_then_multiply(x, y, multiplier=1):\n",
    "    if not isinstance(multiplier, (int, float)):\n",
    "        raise TypeError(\"multiplier must be an integer or float\")\n",
    "    return (x + y) * multiplier\n",
    "\n",
    "add_then_multiply(3, 5, multiplier=\"2\")"
   ]
  },
  {
   "cell_type": "markdown",
   "id": "47ecd617",
   "metadata": {},
   "source": [
    "Now instead of having an unexpected result, we raise an informative error indicating that this function is not supposed to receive a non-number for its `multiplier` argument."
   ]
  },
  {
   "cell_type": "markdown",
   "id": "1cf6746d",
   "metadata": {
    "tags": []
   },
   "source": [
    "## Handling Errors - try, except, else, and finally\n",
    "Sometimes you expect to receive an error and want to run a snippet of code in order to handle that error.\n",
    "\n",
    "The try...except code-block has many more features than described here, however they are outside the scope of this article so we won't get into them here."
   ]
  },
  {
   "cell_type": "code",
   "execution_count": null,
   "id": "d1cada08",
   "metadata": {},
   "outputs": [],
   "source": [
    "# Any set up code should exist boutside of the try block.\n",
    "#  In general, the try block should not contain many lines of code.\n",
    "#  Just the lines of code that raise an Exception\n",
    "\n",
    "x = [1, 2, 3]\n",
    "\n",
    "try:\n",
    "    # The code that may raise an error should occur here.\n",
    "    x[10] # this will raise an IndexError\n",
    "except IndexError:\n",
    "    # This block will be executed if an IndexError occurred in the `try` block\n",
    "    #   if this block does not explicitly raise an error, the error can be ignored.\n",
    "    print(\"There was an error!\")\n",
    "else:\n",
    "    # This block is only executed if NO error has occurred\n",
    "    print(\"no error occurred\")\n",
    "finally:\n",
    "    # anything in this block will always be executed, even if an error is encoutnered\n",
    "    print(\"I will always be executed\")"
   ]
  },
  {
   "cell_type": "markdown",
   "id": "20fffb88",
   "metadata": {
    "slideshow": {
     "slide_type": "slide"
    }
   },
   "source": [
    "## Challenge! - See if you can fix these errors"
   ]
  },
  {
   "cell_type": "code",
   "execution_count": null,
   "id": "75789219",
   "metadata": {
    "tags": [
     "raises-exception"
    ]
   },
   "outputs": [],
   "source": [
    "# Challenge 1 - fix the import statement\n",
    "improt collections"
   ]
  },
  {
   "cell_type": "code",
   "execution_count": null,
   "id": "7535366a",
   "metadata": {
    "tags": [
     "raises-exception"
    ]
   },
   "outputs": [],
   "source": [
    "# Challenge 2 - pop the last element of the list\n",
    "x = [\"a\", \"b\", \"c\"]\n",
    "x.pop(3)\n",
    "print(x)"
   ]
  },
  {
   "cell_type": "code",
   "execution_count": null,
   "id": "b8d479b9",
   "metadata": {
    "tags": [
     "raises-exception"
    ]
   },
   "outputs": [],
   "source": [
    "# Challenge 3 - Fix the SyntaxError\n",
    "if True:\n",
    "    if True:\n",
    "        print(((123))\n",
    "\n",
    "if not False:\n",
    "    print(456)"
   ]
  },
  {
   "cell_type": "code",
   "execution_count": null,
   "id": "3705ad53",
   "metadata": {
    "tags": [
     "raises-exception"
    ]
   },
   "outputs": [],
   "source": [
    "# Challenge 4 - Fix the SyntaxError\n",
    "for i in range(3):\n",
    "    print((\"loop counter\", i)\n",
    "    if i <= 1\n",
    "        print(\"inside if statement:\", i)"
   ]
  },
  {
   "cell_type": "code",
   "execution_count": null,
   "id": "20f4856c",
   "metadata": {
    "tags": [
     "raises-exception"
    ]
   },
   "outputs": [],
   "source": [
    "# Challenge 5 - Write your own code to make the longest traceback possible!"
   ]
  },
  {
   "cell_type": "markdown",
   "id": "11da5f09",
   "metadata": {},
   "source": [
    "## Bonus! Errors in Python >= 3.10\n",
    "Python 3.10 (which is currently not released at the time of writing) has revamped the usefulness of tracebacks! The new Error messages are much more specific, especially when it comes to syntax errors.\n",
    "\n",
    "https://realpython.com/lessons/better-error-messages/"
   ]
  }
 ],
 "metadata": {
  "dpug": {
   "author": "Cameron Riddell",
   "date": "2021-07-20"
  },
  "jupytext": {
   "notebook_metadata_filter": "dpug,rise"
  },
  "kernelspec": {
   "display_name": "Python 3 (ipykernel)",
   "language": "python",
   "name": "python3"
  },
  "rise": {
   "scroll": true
  }
 },
 "nbformat": 4,
 "nbformat_minor": 5
}
